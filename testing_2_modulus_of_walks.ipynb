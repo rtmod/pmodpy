{
 "cells": [
  {
   "cell_type": "markdown",
   "metadata": {},
   "source": [
    "\n",
    "\n",
    "In this notebook, we are testing our implementation of the function that computes modulus for walks from node $s$ to node $t$.\n",
    "\n",
    "We first import the function that computes the modulus walks."
   ]
  },
  {
   "cell_type": "code",
   "execution_count": 32,
   "metadata": {},
   "outputs": [],
   "source": [
    "from pmodpy.examplegraphs import examplegraphs\n",
    "from pmodpy.src import moduluswalks\n",
    "import igraph"
   ]
  },
  {
   "cell_type": "markdown",
   "metadata": {},
   "source": [
    "\n",
    "This first example is Example 4.3 in \n",
    "Albin, Nathan, and Pietro Poggi-Corradini. \"Minimal subfamilies and the probabilistic interpretation for modulus on graphs.\" The Journal of Analysis 24.2 (2016): 183-208."
   ]
  },
  {
   "cell_type": "code",
   "execution_count": 33,
   "metadata": {},
   "outputs": [],
   "source": [
    "\n",
    "kite=examplegraphs.Kite()"
   ]
  },
  {
   "cell_type": "code",
   "execution_count": 29,
   "metadata": {},
   "outputs": [
    {
     "name": "stdout",
     "output_type": "stream",
     "text": [
      "Edge Density\n",
      "(0, 2) 0.19999960826478333\n",
      "(0, 3) 0.3999992165427897\n",
      "(1, 3) 0.600000783634839\n",
      "(2, 3) 0.1999996082618823\n",
      "2 -modulus is approximately 0.5999999993794135\n",
      "Theoretical error =  2e-36\n"
     ]
    }
   ],
   "source": [
    "moduluswalks.modulus_walks(2, kite, 0, 1, eps=2e-36, verbose=1);"
   ]
  },
  {
   "cell_type": "markdown",
   "metadata": {},
   "source": [
    "The following example is Figure 3 from  \n",
    "Albin, Nathan, et al. \"Modulus of families of walks on graphs.\" arXiv preprint arXiv:1401.7640 (2014).\n",
    "\n",
    "Notice that our indices are shifted by -1 relative to the original publication.\n"
   ]
  },
  {
   "cell_type": "code",
   "execution_count": 6,
   "metadata": {},
   "outputs": [],
   "source": [
    "House=examplegraphs.House()"
   ]
  },
  {
   "cell_type": "code",
   "execution_count": 7,
   "metadata": {},
   "outputs": [
    {
     "name": "stdout",
     "output_type": "stream",
     "text": [
      "Edge Density\n",
      "(0, 1) 1.0000000000050566\n",
      "(0, 4) 0.5000000000065299\n",
      "(1, 4) 0.5000000000065299\n",
      "(0, 3) 0.3333333333361819\n",
      "(2, 3) 0.33333333333618187\n",
      "(1, 2) 0.33333333335160925\n",
      "2 modulus is approximately 1.8333333332106945\n",
      "Theoretical error =  2e-36\n"
     ]
    }
   ],
   "source": [
    "moduluswalks.modulus_walks(2, House, 0, 1, eps=2e-36, verbose=1);"
   ]
  },
  {
   "cell_type": "markdown",
   "metadata": {},
   "source": [
    "The following examples can be found in Figure 1 in\n",
    "\n",
    "Shakeri, Heman, et al. \"Generalized network measures based on modulus of families of walks.\" Journal of Computational and Applied Mathematics 307 (2016): 307-318."
   ]
  },
  {
   "cell_type": "code",
   "execution_count": 8,
   "metadata": {},
   "outputs": [],
   "source": [
    "Shakeri_1a=examplegraphs.Shakeri_1a();\n",
    "Shakeri_1b=examplegraphs.Shakeri_1b();\n",
    "Shakeri_1d=examplegraphs.Shakeri_1d();"
   ]
  },
  {
   "cell_type": "code",
   "execution_count": 10,
   "metadata": {},
   "outputs": [
    {
     "name": "stdout",
     "output_type": "stream",
     "text": [
      "Edge Density\n",
      "(0, 1) 0.399999971253436\n",
      "(1, 2) 0.2000000096122006\n",
      "(2, 5) 0.2000000096122006\n",
      "(3, 1) 6.5474761843793975e-06\n",
      "(6, 3) 6.5474761843793975e-06\n",
      "(8, 6) 6.5474761843793975e-06\n",
      "(1, 4) 0.20000000961225353\n",
      "(4, 7) 0.20000000961225353\n",
      "(7, 8) 0.20000000961225353\n",
      "(5, 8) 0.20000000961235942\n",
      "2 modulus is approximately 0.39999999964769883\n",
      "Theoretical error =  2e-36\n"
     ]
    }
   ],
   "source": [
    "\n",
    "\n",
    "moduluswalks.modulus_walks(2, Shakeri_1a, 0, 8, eps=2e-36, verbose=1);"
   ]
  },
  {
   "cell_type": "code",
   "execution_count": 11,
   "metadata": {},
   "outputs": [
    {
     "name": "stdout",
     "output_type": "stream",
     "text": [
      "Edge Density\n",
      "(0, 1) 0.4999995514015676\n",
      "(1, 2) 0.16666681633306552\n",
      "(2, 5) 0.16666681633306552\n",
      "(1, 3) 0.16666681633326308\n",
      "(3, 6) 0.16666681633326308\n",
      "(6, 8) 0.16666681633326308\n",
      "(1, 4) 0.16666681633326308\n",
      "(4, 7) 0.16666681633326308\n",
      "(7, 8) 0.16666681633326308\n",
      "(5, 8) 0.16666681633365826\n",
      "2 modulus is approximately 0.49999999842467213\n",
      "Theoretical error =  2e-36\n"
     ]
    }
   ],
   "source": [
    "moduluswalks.modulus_walks(2, Shakeri_1b, 0, 8, eps=2e-36, verbose=1);"
   ]
  },
  {
   "cell_type": "code",
   "execution_count": 12,
   "metadata": {},
   "outputs": [
    {
     "name": "stdout",
     "output_type": "stream",
     "text": [
      "Edge Density\n",
      "(0, 1) 0.4999997938880553\n",
      "(1, 2) 0.16666673547482677\n",
      "(2, 5) 0.16666673547482677\n",
      "(1, 3) 0.16666673547482677\n",
      "(3, 6) 0.16666673547482677\n",
      "(6, 8) 0.16666673547482677\n",
      "(1, 4) 0.16666673547482677\n",
      "(4, 7) 0.16666673547482677\n",
      "(7, 8) 0.16666673547482677\n",
      "(5, 8) 0.16666673547482677\n",
      "(3, 2) 1.021226635879641e-05\n",
      "(6, 5) 1.021226635879641e-05\n",
      "(3, 4) 1.021226635879641e-05\n",
      "(6, 7) 1.0212499013654496e-05\n",
      "2 modulus is approximately 0.4999999987187533\n",
      "Theoretical error =  2e-36\n"
     ]
    }
   ],
   "source": [
    "moduluswalks.modulus_walks(2, Shakeri_1d, 0, 8, eps=2e-36, verbose=1);"
   ]
  },
  {
   "cell_type": "markdown",
   "metadata": {},
   "source": [
    "There is a non-neglibile discrepancy between our 2-modulus and the 2-modulus described in the original publication (0.52). This needs to be carefully addressed"
   ]
  },
  {
   "cell_type": "code",
   "execution_count": null,
   "metadata": {},
   "outputs": [],
   "source": []
  }
 ],
 "metadata": {
  "kernelspec": {
   "display_name": "Python 3",
   "language": "python",
   "name": "python3"
  },
  "language_info": {
   "codemirror_mode": {
    "name": "ipython",
    "version": 3
   },
   "file_extension": ".py",
   "mimetype": "text/x-python",
   "name": "python",
   "nbconvert_exporter": "python",
   "pygments_lexer": "ipython3",
   "version": "3.6.5"
  }
 },
 "nbformat": 4,
 "nbformat_minor": 2
}
